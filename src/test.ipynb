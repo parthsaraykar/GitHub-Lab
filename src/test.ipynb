{
 "cells": [
  {
   "cell_type": "code",
   "execution_count": null,
   "metadata": {},
   "outputs": [],
   "source": [
    "import os\n",
    "import pickle\n",
    "import random\n",
    "import json\n",
    "import mlflow\n",
    "import scipy.sparse as sp\n",
    "from joblib import load\n",
    "from sklearn.datasets import fetch_rcv1\n",
    "from sklearn.model_selection import train_test_split\n",
    "from sklearn.metrics import accuracy_score, f1_score, confusion_matrix\n",
    "import matplotlib.pyplot as plt\n",
    "import seaborn as sns\n",
    "\n",
    "# Paths\n",
    "DATA_DIR = \"data\"\n",
    "MODEL_DIR = \"models\"\n",
    "METRICS_DIR = \"metrics\"\n"
   ]
  },
  {
   "cell_type": "code",
   "execution_count": null,
   "metadata": {},
   "outputs": [],
   "source": [
    "if os.path.exists(os.path.join(DATA_DIR, \"data.pickle\")):\n",
    "    print(\" Loading cached RCV1 dataset...\")\n",
    "    X = pickle.load(open(os.path.join(DATA_DIR, \"data.pickle\"), \"rb\"))\n",
    "    y = pickle.load(open(os.path.join(DATA_DIR, \"target.pickle\"), \"rb\"))\n",
    "else:\n",
    "    print(\"⬇ Fetching RCV1 dataset (first time, may take a few mins)...\")\n",
    "    rcv1 = fetch_rcv1(subset=\"train\")\n",
    "    X = rcv1.data\n",
    "    y = rcv1.target\n",
    "    os.makedirs(DATA_DIR, exist_ok=True)\n",
    "    pickle.dump(X, open(os.path.join(DATA_DIR, \"data.pickle\"), \"wb\"))\n",
    "    pickle.dump(y, open(os.path.join(DATA_DIR, \"target.pickle\"), \"wb\"))\n",
    "\n",
    "if sp.issparse(y):\n",
    "    y = y.toarray()\n",
    "y = y[:, random.randint(0, y.shape[1] - 1)]\n",
    "print(f\" Dataset ready: X={X.shape}, y={y.shape}\")\n"
   ]
  },
  {
   "cell_type": "code",
   "execution_count": null,
   "metadata": {},
   "outputs": [],
   "source": [
    "model_files = sorted(\n",
    "    [f for f in os.listdir(MODEL_DIR) if f.endswith(\".joblib\")],\n",
    "    key=lambda x: os.path.getmtime(os.path.join(MODEL_DIR, x)),\n",
    "    reverse=True,\n",
    ")\n",
    "if not model_files:\n",
    "    raise FileNotFoundError(\"❌ No model found in 'models/' directory!\")\n",
    "\n",
    "model_path = os.path.join(MODEL_DIR, model_files[0])\n",
    "print(f\"🧠 Loading model: {model_path}\")\n",
    "model = load(model_path)\n"
   ]
  },
  {
   "cell_type": "code",
   "execution_count": null,
   "metadata": {},
   "outputs": [],
   "source": [
    "\n",
    "train_X, test_X, train_y, test_y = train_test_split(X, y, test_size=0.2, random_state=42, shuffle=True)\n",
    "y_pred = model.predict(test_X)\n",
    "\n",
    "acc = round(accuracy_score(test_y, y_pred), 3)\n",
    "f1 = round(f1_score(test_y, y_pred), 3)\n",
    "\n",
    "print(f\"✅ Model Evaluation Complete\")\n",
    "print(f\"Accuracy: {acc}\")\n",
    "print(f\"F1 Score: {f1}\")\n"
   ]
  },
  {
   "cell_type": "code",
   "execution_count": null,
   "metadata": {},
   "outputs": [],
   "source": [
    "cm = confusion_matrix(test_y, y_pred)\n",
    "plt.figure(figsize=(5, 4))\n",
    "sns.heatmap(cm, annot=True, fmt='d', cmap='Blues')\n",
    "plt.title(f\"Confusion Matrix\\nAcc={acc}, F1={f1}\")\n",
    "plt.xlabel(\"Predicted\")\n",
    "plt.ylabel(\"Actual\")\n",
    "plt.show()\n"
   ]
  },
  {
   "cell_type": "code",
   "execution_count": null,
   "metadata": {},
   "outputs": [],
   "source": [
    "os.makedirs(METRICS_DIR, exist_ok=True)\n",
    "metrics_path = os.path.join(METRICS_DIR, \"test_metrics.json\")\n",
    "with open(metrics_path, \"w\") as f:\n",
    "    json.dump({\"accuracy\": acc, \"f1_score\": f1}, f, indent=4)\n",
    "print(f\"📊 Metrics saved to {metrics_path}\")\n"
   ]
  }
 ],
 "metadata": {
  "kernelspec": {
   "display_name": "Lab1",
   "language": "python",
   "name": "python3"
  },
  "language_info": {
   "codemirror_mode": {
    "name": "ipython",
    "version": 3
   },
   "file_extension": ".py",
   "mimetype": "text/x-python",
   "name": "python",
   "nbconvert_exporter": "python",
   "pygments_lexer": "ipython3",
   "version": "3.9.7"
  },
  "orig_nbformat": 4
 },
 "nbformat": 4,
 "nbformat_minor": 2
}
